{
 "cells": [
  {
   "cell_type": "code",
   "execution_count": 19,
   "id": "maritime-generator",
   "metadata": {},
   "outputs": [],
   "source": [
    "import cv2\n",
    "import pandas as pd\n",
    "import matplotlib.pyplot as plt"
   ]
  },
  {
   "cell_type": "markdown",
   "id": "lovely-increase",
   "metadata": {},
   "source": [
    "### chargement du fichier txt"
   ]
  },
  {
   "cell_type": "code",
   "execution_count": 3,
   "id": "reflected-vermont",
   "metadata": {},
   "outputs": [],
   "source": [
    "data = pd.read_csv('gt.txt', sep=';', names = ['filename', 'xmin', 'ymin', 'xmax', 'ymax', 'class'])"
   ]
  },
  {
   "cell_type": "markdown",
   "id": "southeast-native",
   "metadata": {},
   "source": [
    "### définition taille d'image"
   ]
  },
  {
   "cell_type": "code",
   "execution_count": 4,
   "id": "diverse-compromise",
   "metadata": {},
   "outputs": [],
   "source": [
    "data['width'] = 1360\n",
    "data['height'] = 800"
   ]
  },
  {
   "cell_type": "code",
   "execution_count": 6,
   "id": "stainless-pension",
   "metadata": {},
   "outputs": [
    {
     "data": {
      "text/html": [
       "<div>\n",
       "<style scoped>\n",
       "    .dataframe tbody tr th:only-of-type {\n",
       "        vertical-align: middle;\n",
       "    }\n",
       "\n",
       "    .dataframe tbody tr th {\n",
       "        vertical-align: top;\n",
       "    }\n",
       "\n",
       "    .dataframe thead th {\n",
       "        text-align: right;\n",
       "    }\n",
       "</style>\n",
       "<table border=\"1\" class=\"dataframe\">\n",
       "  <thead>\n",
       "    <tr style=\"text-align: right;\">\n",
       "      <th></th>\n",
       "      <th>filename</th>\n",
       "      <th>width</th>\n",
       "      <th>height</th>\n",
       "      <th>class</th>\n",
       "      <th>xmin</th>\n",
       "      <th>ymin</th>\n",
       "      <th>xmax</th>\n",
       "      <th>ymax</th>\n",
       "    </tr>\n",
       "  </thead>\n",
       "  <tbody>\n",
       "    <tr>\n",
       "      <th>0</th>\n",
       "      <td>00000.ppm</td>\n",
       "      <td>1360</td>\n",
       "      <td>800</td>\n",
       "      <td>11</td>\n",
       "      <td>774</td>\n",
       "      <td>411</td>\n",
       "      <td>815</td>\n",
       "      <td>446</td>\n",
       "    </tr>\n",
       "    <tr>\n",
       "      <th>1</th>\n",
       "      <td>00001.ppm</td>\n",
       "      <td>1360</td>\n",
       "      <td>800</td>\n",
       "      <td>40</td>\n",
       "      <td>983</td>\n",
       "      <td>388</td>\n",
       "      <td>1024</td>\n",
       "      <td>432</td>\n",
       "    </tr>\n",
       "    <tr>\n",
       "      <th>2</th>\n",
       "      <td>00001.ppm</td>\n",
       "      <td>1360</td>\n",
       "      <td>800</td>\n",
       "      <td>38</td>\n",
       "      <td>386</td>\n",
       "      <td>494</td>\n",
       "      <td>442</td>\n",
       "      <td>552</td>\n",
       "    </tr>\n",
       "    <tr>\n",
       "      <th>3</th>\n",
       "      <td>00001.ppm</td>\n",
       "      <td>1360</td>\n",
       "      <td>800</td>\n",
       "      <td>13</td>\n",
       "      <td>973</td>\n",
       "      <td>335</td>\n",
       "      <td>1031</td>\n",
       "      <td>390</td>\n",
       "    </tr>\n",
       "    <tr>\n",
       "      <th>4</th>\n",
       "      <td>00002.ppm</td>\n",
       "      <td>1360</td>\n",
       "      <td>800</td>\n",
       "      <td>39</td>\n",
       "      <td>892</td>\n",
       "      <td>476</td>\n",
       "      <td>1006</td>\n",
       "      <td>592</td>\n",
       "    </tr>\n",
       "    <tr>\n",
       "      <th>...</th>\n",
       "      <td>...</td>\n",
       "      <td>...</td>\n",
       "      <td>...</td>\n",
       "      <td>...</td>\n",
       "      <td>...</td>\n",
       "      <td>...</td>\n",
       "      <td>...</td>\n",
       "      <td>...</td>\n",
       "    </tr>\n",
       "    <tr>\n",
       "      <th>1208</th>\n",
       "      <td>00896.ppm</td>\n",
       "      <td>1360</td>\n",
       "      <td>800</td>\n",
       "      <td>15</td>\n",
       "      <td>808</td>\n",
       "      <td>412</td>\n",
       "      <td>846</td>\n",
       "      <td>450</td>\n",
       "    </tr>\n",
       "    <tr>\n",
       "      <th>1209</th>\n",
       "      <td>00897.ppm</td>\n",
       "      <td>1360</td>\n",
       "      <td>800</td>\n",
       "      <td>42</td>\n",
       "      <td>804</td>\n",
       "      <td>526</td>\n",
       "      <td>828</td>\n",
       "      <td>550</td>\n",
       "    </tr>\n",
       "    <tr>\n",
       "      <th>1210</th>\n",
       "      <td>00898.ppm</td>\n",
       "      <td>1360</td>\n",
       "      <td>800</td>\n",
       "      <td>4</td>\n",
       "      <td>323</td>\n",
       "      <td>504</td>\n",
       "      <td>355</td>\n",
       "      <td>536</td>\n",
       "    </tr>\n",
       "    <tr>\n",
       "      <th>1211</th>\n",
       "      <td>00898.ppm</td>\n",
       "      <td>1360</td>\n",
       "      <td>800</td>\n",
       "      <td>4</td>\n",
       "      <td>817</td>\n",
       "      <td>510</td>\n",
       "      <td>849</td>\n",
       "      <td>542</td>\n",
       "    </tr>\n",
       "    <tr>\n",
       "      <th>1212</th>\n",
       "      <td>00899.ppm</td>\n",
       "      <td>1360</td>\n",
       "      <td>800</td>\n",
       "      <td>24</td>\n",
       "      <td>864</td>\n",
       "      <td>484</td>\n",
       "      <td>921</td>\n",
       "      <td>534</td>\n",
       "    </tr>\n",
       "  </tbody>\n",
       "</table>\n",
       "<p>1213 rows × 8 columns</p>\n",
       "</div>"
      ],
      "text/plain": [
       "       filename  width  height  class  xmin  ymin  xmax  ymax\n",
       "0     00000.ppm   1360     800     11   774   411   815   446\n",
       "1     00001.ppm   1360     800     40   983   388  1024   432\n",
       "2     00001.ppm   1360     800     38   386   494   442   552\n",
       "3     00001.ppm   1360     800     13   973   335  1031   390\n",
       "4     00002.ppm   1360     800     39   892   476  1006   592\n",
       "...         ...    ...     ...    ...   ...   ...   ...   ...\n",
       "1208  00896.ppm   1360     800     15   808   412   846   450\n",
       "1209  00897.ppm   1360     800     42   804   526   828   550\n",
       "1210  00898.ppm   1360     800      4   323   504   355   536\n",
       "1211  00898.ppm   1360     800      4   817   510   849   542\n",
       "1212  00899.ppm   1360     800     24   864   484   921   534\n",
       "\n",
       "[1213 rows x 8 columns]"
      ]
     },
     "execution_count": 6,
     "metadata": {},
     "output_type": "execute_result"
    }
   ],
   "source": [
    "data[['filename', 'width', 'height', 'class', 'xmin', 'ymin', 'xmax', 'ymax']]"
   ]
  },
  {
   "cell_type": "code",
   "execution_count": 7,
   "id": "medical-cloud",
   "metadata": {},
   "outputs": [],
   "source": [
    "def replace_class(_class):\n",
    "    return 1"
   ]
  },
  {
   "cell_type": "code",
   "execution_count": 9,
   "id": "vanilla-texas",
   "metadata": {},
   "outputs": [],
   "source": [
    "# changement de classe pour n'avoir que la classe panneau, la classification se fait avec un autre modèle\n",
    "data['class'] = data['class'].map(replace_class)"
   ]
  },
  {
   "cell_type": "code",
   "execution_count": 11,
   "id": "mexican-reducing",
   "metadata": {},
   "outputs": [],
   "source": [
    "def replace_name(name):\n",
    "    name = name.split('.')\n",
    "    return name[0] + '.jpeg'"
   ]
  },
  {
   "cell_type": "code",
   "execution_count": 14,
   "id": "informational-methodology",
   "metadata": {},
   "outputs": [],
   "source": [
    "# changement du format d'image de ppm en jpeg\n",
    "data['filename'] = data['filename'].map(replace_name)"
   ]
  },
  {
   "cell_type": "code",
   "execution_count": 15,
   "id": "planned-order",
   "metadata": {},
   "outputs": [],
   "source": [
    "# colonne de classe mise à la fin de la database\n",
    "data = data[['filename', 'width', 'height', 'xmin', 'ymin', 'xmax', 'ymax', 'class']]"
   ]
  },
  {
   "cell_type": "code",
   "execution_count": 17,
   "id": "handy-maryland",
   "metadata": {},
   "outputs": [
    {
     "data": {
      "text/html": [
       "<div>\n",
       "<style scoped>\n",
       "    .dataframe tbody tr th:only-of-type {\n",
       "        vertical-align: middle;\n",
       "    }\n",
       "\n",
       "    .dataframe tbody tr th {\n",
       "        vertical-align: top;\n",
       "    }\n",
       "\n",
       "    .dataframe thead th {\n",
       "        text-align: right;\n",
       "    }\n",
       "</style>\n",
       "<table border=\"1\" class=\"dataframe\">\n",
       "  <thead>\n",
       "    <tr style=\"text-align: right;\">\n",
       "      <th></th>\n",
       "      <th>filename</th>\n",
       "      <th>width</th>\n",
       "      <th>height</th>\n",
       "      <th>xmin</th>\n",
       "      <th>ymin</th>\n",
       "      <th>xmax</th>\n",
       "      <th>ymax</th>\n",
       "      <th>class</th>\n",
       "    </tr>\n",
       "  </thead>\n",
       "  <tbody>\n",
       "    <tr>\n",
       "      <th>0</th>\n",
       "      <td>00000.jpeg</td>\n",
       "      <td>1360</td>\n",
       "      <td>800</td>\n",
       "      <td>774</td>\n",
       "      <td>411</td>\n",
       "      <td>815</td>\n",
       "      <td>446</td>\n",
       "      <td>1</td>\n",
       "    </tr>\n",
       "    <tr>\n",
       "      <th>1</th>\n",
       "      <td>00001.jpeg</td>\n",
       "      <td>1360</td>\n",
       "      <td>800</td>\n",
       "      <td>983</td>\n",
       "      <td>388</td>\n",
       "      <td>1024</td>\n",
       "      <td>432</td>\n",
       "      <td>1</td>\n",
       "    </tr>\n",
       "    <tr>\n",
       "      <th>2</th>\n",
       "      <td>00001.jpeg</td>\n",
       "      <td>1360</td>\n",
       "      <td>800</td>\n",
       "      <td>386</td>\n",
       "      <td>494</td>\n",
       "      <td>442</td>\n",
       "      <td>552</td>\n",
       "      <td>1</td>\n",
       "    </tr>\n",
       "    <tr>\n",
       "      <th>3</th>\n",
       "      <td>00001.jpeg</td>\n",
       "      <td>1360</td>\n",
       "      <td>800</td>\n",
       "      <td>973</td>\n",
       "      <td>335</td>\n",
       "      <td>1031</td>\n",
       "      <td>390</td>\n",
       "      <td>1</td>\n",
       "    </tr>\n",
       "    <tr>\n",
       "      <th>4</th>\n",
       "      <td>00002.jpeg</td>\n",
       "      <td>1360</td>\n",
       "      <td>800</td>\n",
       "      <td>892</td>\n",
       "      <td>476</td>\n",
       "      <td>1006</td>\n",
       "      <td>592</td>\n",
       "      <td>1</td>\n",
       "    </tr>\n",
       "  </tbody>\n",
       "</table>\n",
       "</div>"
      ],
      "text/plain": [
       "     filename  width  height  xmin  ymin  xmax  ymax  class\n",
       "0  00000.jpeg   1360     800   774   411   815   446      1\n",
       "1  00001.jpeg   1360     800   983   388  1024   432      1\n",
       "2  00001.jpeg   1360     800   386   494   442   552      1\n",
       "3  00001.jpeg   1360     800   973   335  1031   390      1\n",
       "4  00002.jpeg   1360     800   892   476  1006   592      1"
      ]
     },
     "execution_count": 17,
     "metadata": {},
     "output_type": "execute_result"
    }
   ],
   "source": [
    "data.head(5)"
   ]
  },
  {
   "cell_type": "code",
   "execution_count": 16,
   "id": "accessible-oxygen",
   "metadata": {},
   "outputs": [],
   "source": [
    "# enregistrement en csv\n",
    "data.to_csv('full_labels.csv', index=False)"
   ]
  },
  {
   "cell_type": "markdown",
   "id": "civilian-quebec",
   "metadata": {},
   "source": [
    "### Changement de format des images"
   ]
  },
  {
   "cell_type": "code",
   "execution_count": null,
   "id": "statistical-equilibrium",
   "metadata": {},
   "outputs": [],
   "source": [
    "import os \n",
    "import cv2 \n",
    "from glob import glob "
   ]
  },
  {
   "cell_type": "code",
   "execution_count": null,
   "id": "closed-yesterday",
   "metadata": {},
   "outputs": [],
   "source": [
    "cwd = os.getcwd()\n",
    "input_dir = os.path.join(cwd, \"*.ppm\")    \n",
    "ppms = glob(input_dir)  "
   ]
  },
  {
   "cell_type": "code",
   "execution_count": null,
   "id": "lonely-spirit",
   "metadata": {},
   "outputs": [],
   "source": [
    "for ppm in ppms:\n",
    "    cv2.imwrite(os.path.splitext(ppm)[0] + '.jpeg', cv2.imread(ppm))"
   ]
  }
 ],
 "metadata": {
  "kernelspec": {
   "display_name": "Python 3",
   "language": "python",
   "name": "python3"
  },
  "language_info": {
   "codemirror_mode": {
    "name": "ipython",
    "version": 3
   },
   "file_extension": ".py",
   "mimetype": "text/x-python",
   "name": "python",
   "nbconvert_exporter": "python",
   "pygments_lexer": "ipython3",
   "version": "3.8.5"
  }
 },
 "nbformat": 4,
 "nbformat_minor": 5
}
